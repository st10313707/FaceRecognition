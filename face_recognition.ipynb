{
  "cells": [
    {
      "cell_type": "markdown",
      "metadata": {
        "id": "1b6-zbNi4fLZ"
      },
      "source": [
        "**Algorithm description:**\n",
        "KNN Classifier is one of the machine learning supervised algorithms used for classification and regression problems. It works by finding the K nearest points in the training dataset and uses their class to predict the class or value of a new data point.\n",
        "\n",
        "**Usage**:\n",
        "We have an image of a celebrity(Nicolas Cage) that we want to classify. We want to know amongst other images of celebrities loaded to predict if the image is similar to Nicolas Cage or not. So for this identification, we can use the KNN algorithm, as it works on a similarity measure.\n",
        "\n",
        "Implementation:\n",
        "1. Prepare a set of images to consider\n",
        "2. Calculate the similarities\n",
        "3. Pass on which features are most important for predicting the class.\n"
      ]
    },
    {
      "cell_type": "markdown",
      "metadata": {
        "id": "HjbqflBB_Y2e"
      },
      "source": [
        "Step 1. Import Libraries\n"
      ]
    },
    {
      "cell_type": "code",
      "execution_count": null,
      "metadata": {
        "colab": {
          "base_uri": "https://localhost:8080/"
        },
        "id": "hY3VKzobb974",
        "outputId": "7708f456-9a8c-496f-dd99-5d124a8a8b6c"
      },
      "outputs": [],
      "source": [
        "!git clone https://github.com/misbah4064/face_recognition.git\n",
        "%cd face_recognition"
      ]
    },
    {
      "cell_type": "code",
      "execution_count": null,
      "metadata": {
        "colab": {
          "base_uri": "https://localhost:8080/"
        },
        "id": "pwMMhjfycXkA",
        "outputId": "9720d45c-b4d0-49d3-c5e9-d9d90871e447"
      },
      "outputs": [],
      "source": [
        "%pip install face_recognition"
      ]
    },
    {
      "cell_type": "code",
      "execution_count": null,
      "metadata": {
        "id": "m-3MW9zCch-B"
      },
      "outputs": [],
      "source": [
        "import numpy as np\n",
        "from PIL import Image, ImageDraw\n",
        "from IPython.display import display\n",
        "import face_recognition"
      ]
    },
    {
      "cell_type": "markdown",
      "metadata": {
        "id": "TVJxOHFZBEOS"
      },
      "source": [
        "Step 2: Load data"
      ]
    },
    {
      "cell_type": "code",
      "execution_count": null,
      "metadata": {
        "colab": {
          "base_uri": "https://localhost:8080/"
        },
        "id": "s3l8y9EVAn4y",
        "outputId": "a61eac95-8e7b-4b99-836e-1b90db9058bf"
      },
      "outputs": [],
      "source": [
        "# Loading images: Nicolas Cage: Train data\n",
        "\n",
        "known_image = face_recognition.load_image_file(\"KnownImage.png\")\n",
        "known_encoding = face_recognition.face_encodings(known_image)[0]\n",
        "\n",
        "unknown_image = face_recognition.load_image_file(\"elon.jpg\")\n",
        "unknown_encoding = face_recognition.face_encodings(unknown_image)[0]\n",
        "\n",
        "# Generate the face encodings\n",
        "face_encodings = face_recognition.face_encodings(known_image)\n",
        "face_encodings_unkown = face_recognition.face_encodings(unknown_image)\n",
        "\n",
        "#Generating encoding and creating profiles\n",
        "known_face_encodings = [\n",
        "    known_encoding,\n",
        "    unknown_encoding\n",
        "]\n",
        "known_face_names = [\n",
        "    \"Nicolas Cage\",\n",
        "    \"Unknown\"\n",
        "]\n",
        "print(\"Imaged loaded and images created.\")"
      ]
    },
    {
      "cell_type": "code",
      "execution_count": null,
      "metadata": {
        "colab": {
          "base_uri": "https://localhost:8080/",
          "height": 294
        },
        "id": "QiNL9vybdCfW",
        "outputId": "3cd3f65f-e873-4b65-de91-aefd28ce4984"
      },
      "outputs": [],
      "source": [
        "# Loading an unknonw image and create a var to srore my test image\n",
        "unknown_image = face_recognition.load_image_file(\"Unknown2.jpg\")\n",
        "\n",
        "face_loc = face_recognition.face_locations(unknown_image)\n",
        "face_encodings = face_recognition.face_encodings(unknown_image, face_loc)\n",
        "\n",
        "pil_image = Image.fromarray(unknown_image)\n",
        "draw = ImageDraw.Draw(pil_image)\n",
        "\n",
        "for (top, right, bottom, left), face_encoding in zip(face_loc, face_encodings):\n",
        "    # See if the face is a match for the known face(s)\n",
        "    matches = face_recognition.compare_faces(known_face_encodings, face_encoding)\n",
        "\n",
        "    name = \"Unknown\"\n",
        "\n",
        "    face_distances = face_recognition.face_distance(known_face_encodings, face_encoding)\n",
        "    best_match_index = np.argmin(face_distances)\n",
        "    if matches[best_match_index]:\n",
        "        name = known_face_names[best_match_index]\n",
        "        print(\"The unknown face matches\" + \" \"+ name)\n",
        "    else:\n",
        "        print(\"The unknown face does not match any of the known faces\")\n",
        "\n",
        "    # Draw a box around the face using the Pillow module\n",
        "    # to read and compare features of our test and train dataset\n",
        "    draw.rectangle(((left, top), (right, bottom)), outline=(0, 255, 255))\n",
        "\n",
        "    # Draw a label with a name below the face\n",
        "    text_width, text_height = draw.textsize(name)\n",
        "\n",
        "    # draw.rectangle(((left, bottom - text_height - 10), (right, bottom)), fill=(0, 0, 255), outline=(0, 0, 255))\n",
        "    draw.text((left + 6, bottom - text_height + 25), name, fill=(255, 255, 255, 255))\n",
        "\n",
        "# Remove the drawing library from memory as per the Pillow docs\n",
        "del draw\n",
        "\n",
        "# Display the resulting image\n",
        "display(pil_image)"
      ]
    }
  ],
  "metadata": {
    "accelerator": "GPU",
    "colab": {
      "gpuType": "T4",
      "name": "Welcome To Colab",
      "provenance": []
    },
    "kernelspec": {
      "display_name": "Python 3",
      "name": "python3"
    }
  },
  "nbformat": 4,
  "nbformat_minor": 0
}
